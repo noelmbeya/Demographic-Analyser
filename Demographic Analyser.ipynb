{
 "cells": [
  {
   "cell_type": "code",
   "execution_count": 1,
   "id": "0c80c527",
   "metadata": {
    "scrolled": true
   },
   "outputs": [
    {
     "data": {
      "text/html": [
       "<div>\n",
       "<style scoped>\n",
       "    .dataframe tbody tr th:only-of-type {\n",
       "        vertical-align: middle;\n",
       "    }\n",
       "\n",
       "    .dataframe tbody tr th {\n",
       "        vertical-align: top;\n",
       "    }\n",
       "\n",
       "    .dataframe thead th {\n",
       "        text-align: right;\n",
       "    }\n",
       "</style>\n",
       "<table border=\"1\" class=\"dataframe\">\n",
       "  <thead>\n",
       "    <tr style=\"text-align: right;\">\n",
       "      <th></th>\n",
       "      <th>age</th>\n",
       "      <th>workclass</th>\n",
       "      <th>fnlwgt</th>\n",
       "      <th>education</th>\n",
       "      <th>education-num</th>\n",
       "      <th>marital-status</th>\n",
       "      <th>occupation</th>\n",
       "      <th>relationship</th>\n",
       "      <th>race</th>\n",
       "      <th>sex</th>\n",
       "      <th>capital-gain</th>\n",
       "      <th>capital-loss</th>\n",
       "      <th>hours-per-week</th>\n",
       "      <th>native-country</th>\n",
       "      <th>salary</th>\n",
       "    </tr>\n",
       "  </thead>\n",
       "  <tbody>\n",
       "    <tr>\n",
       "      <th>0</th>\n",
       "      <td>39</td>\n",
       "      <td>State-gov</td>\n",
       "      <td>77516</td>\n",
       "      <td>Bachelors</td>\n",
       "      <td>13</td>\n",
       "      <td>Never-married</td>\n",
       "      <td>Adm-clerical</td>\n",
       "      <td>Not-in-family</td>\n",
       "      <td>White</td>\n",
       "      <td>Male</td>\n",
       "      <td>2174</td>\n",
       "      <td>0</td>\n",
       "      <td>40</td>\n",
       "      <td>United-States</td>\n",
       "      <td>&lt;=50K</td>\n",
       "    </tr>\n",
       "    <tr>\n",
       "      <th>1</th>\n",
       "      <td>50</td>\n",
       "      <td>Self-emp-not-inc</td>\n",
       "      <td>83311</td>\n",
       "      <td>Bachelors</td>\n",
       "      <td>13</td>\n",
       "      <td>Married-civ-spouse</td>\n",
       "      <td>Exec-managerial</td>\n",
       "      <td>Husband</td>\n",
       "      <td>White</td>\n",
       "      <td>Male</td>\n",
       "      <td>0</td>\n",
       "      <td>0</td>\n",
       "      <td>13</td>\n",
       "      <td>United-States</td>\n",
       "      <td>&lt;=50K</td>\n",
       "    </tr>\n",
       "    <tr>\n",
       "      <th>2</th>\n",
       "      <td>38</td>\n",
       "      <td>Private</td>\n",
       "      <td>215646</td>\n",
       "      <td>HS-grad</td>\n",
       "      <td>9</td>\n",
       "      <td>Divorced</td>\n",
       "      <td>Handlers-cleaners</td>\n",
       "      <td>Not-in-family</td>\n",
       "      <td>White</td>\n",
       "      <td>Male</td>\n",
       "      <td>0</td>\n",
       "      <td>0</td>\n",
       "      <td>40</td>\n",
       "      <td>United-States</td>\n",
       "      <td>&lt;=50K</td>\n",
       "    </tr>\n",
       "    <tr>\n",
       "      <th>3</th>\n",
       "      <td>53</td>\n",
       "      <td>Private</td>\n",
       "      <td>234721</td>\n",
       "      <td>11th</td>\n",
       "      <td>7</td>\n",
       "      <td>Married-civ-spouse</td>\n",
       "      <td>Handlers-cleaners</td>\n",
       "      <td>Husband</td>\n",
       "      <td>Black</td>\n",
       "      <td>Male</td>\n",
       "      <td>0</td>\n",
       "      <td>0</td>\n",
       "      <td>40</td>\n",
       "      <td>United-States</td>\n",
       "      <td>&lt;=50K</td>\n",
       "    </tr>\n",
       "    <tr>\n",
       "      <th>4</th>\n",
       "      <td>28</td>\n",
       "      <td>Private</td>\n",
       "      <td>338409</td>\n",
       "      <td>Bachelors</td>\n",
       "      <td>13</td>\n",
       "      <td>Married-civ-spouse</td>\n",
       "      <td>Prof-specialty</td>\n",
       "      <td>Wife</td>\n",
       "      <td>Black</td>\n",
       "      <td>Female</td>\n",
       "      <td>0</td>\n",
       "      <td>0</td>\n",
       "      <td>40</td>\n",
       "      <td>Cuba</td>\n",
       "      <td>&lt;=50K</td>\n",
       "    </tr>\n",
       "  </tbody>\n",
       "</table>\n",
       "</div>"
      ],
      "text/plain": [
       "   age         workclass  fnlwgt  education  education-num  \\\n",
       "0   39         State-gov   77516  Bachelors             13   \n",
       "1   50  Self-emp-not-inc   83311  Bachelors             13   \n",
       "2   38           Private  215646    HS-grad              9   \n",
       "3   53           Private  234721       11th              7   \n",
       "4   28           Private  338409  Bachelors             13   \n",
       "\n",
       "       marital-status         occupation   relationship   race     sex  \\\n",
       "0       Never-married       Adm-clerical  Not-in-family  White    Male   \n",
       "1  Married-civ-spouse    Exec-managerial        Husband  White    Male   \n",
       "2            Divorced  Handlers-cleaners  Not-in-family  White    Male   \n",
       "3  Married-civ-spouse  Handlers-cleaners        Husband  Black    Male   \n",
       "4  Married-civ-spouse     Prof-specialty           Wife  Black  Female   \n",
       "\n",
       "   capital-gain  capital-loss  hours-per-week native-country salary  \n",
       "0          2174             0              40  United-States  <=50K  \n",
       "1             0             0              13  United-States  <=50K  \n",
       "2             0             0              40  United-States  <=50K  \n",
       "3             0             0              40  United-States  <=50K  \n",
       "4             0             0              40           Cuba  <=50K  "
      ]
     },
     "execution_count": 1,
     "metadata": {},
     "output_type": "execute_result"
    }
   ],
   "source": [
    "import pandas as pd\n",
    "df = pd.read_csv('adult.data.csv')\n",
    "df.head()"
   ]
  },
  {
   "cell_type": "markdown",
   "id": "1dcd1342",
   "metadata": {},
   "source": [
    "### Race Representation"
   ]
  },
  {
   "cell_type": "code",
   "execution_count": 2,
   "id": "da822077",
   "metadata": {
    "scrolled": true
   },
   "outputs": [
    {
     "name": "stdout",
     "output_type": "stream",
     "text": [
      "White                 27816\n",
      "Black                  3124\n",
      "Asian-Pac-Islander     1039\n",
      "Amer-Indian-Eskimo      311\n",
      "Other                   271\n",
      "Name: race, dtype: int64\n"
     ]
    }
   ],
   "source": [
    "# How many of each race are represented in this dataset?\n",
    "race_count = (df['race'].value_counts())#.tolist()\n",
    "print(race_count)"
   ]
  },
  {
   "cell_type": "markdown",
   "id": "315caafb",
   "metadata": {},
   "source": [
    "### Average Age"
   ]
  },
  {
   "cell_type": "code",
   "execution_count": 3,
   "id": "74bd4088",
   "metadata": {},
   "outputs": [
    {
     "name": "stdout",
     "output_type": "stream",
     "text": [
      "Average Age for Men = 39.4\n",
      "Average Age for Women = 36.9\n"
     ]
    }
   ],
   "source": [
    "# What is the average age of men?\n",
    "average_age_men = round(df[df['sex'] == 'Male']['age'].mean(), 1)\n",
    "print(\"Average Age for Men =\",average_age_men)\n",
    "average_age_men = round(df[df['sex'] == 'Female']['age'].mean(), 1)\n",
    "print(\"Average Age for Women =\",average_age_men)"
   ]
  },
  {
   "cell_type": "markdown",
   "id": "bda480be",
   "metadata": {},
   "source": [
    "### Advanced Education"
   ]
  },
  {
   "cell_type": "code",
   "execution_count": 4,
   "id": "05263630",
   "metadata": {},
   "outputs": [
    {
     "name": "stdout",
     "output_type": "stream",
     "text": [
      "Percentage of People With a Bachelor's Degree = 16.4 %\n"
     ]
    }
   ],
   "source": [
    "# What is the percentage of people who have a Bachelor's degree?\n",
    "percentage_bachelors = round(((len(df[df['education'] == 'Bachelors']) / len(df)) * 100), 1)\n",
    "print(\"Percentage of People With a Bachelor's Degree =\",percentage_bachelors,\"%\")"
   ]
  },
  {
   "cell_type": "code",
   "execution_count": 5,
   "id": "b3566e08",
   "metadata": {},
   "outputs": [
    {
     "name": "stdout",
     "output_type": "stream",
     "text": [
      "People With a Degree = 7491\n",
      "People Without a Degree = 25070\n",
      "Percentage of People With a Degree earning over 50K = 46.5 %\n",
      "Percentage of People Without a Degree earning over 50K = 17.4 %\n"
     ]
    }
   ],
   "source": [
    "# What percentage of people with advanced education (Bachelors, Masters, or Doctorate) earn more than 50K?\n",
    "# What percentage of people without advanced education earn more than 50K?\n",
    "\n",
    "# Count of people with and without Bachelors, Masters, or Doctorate\n",
    "higher_education = len(df[(df['education'].isin(['Bachelors', 'Masters', 'Doctorate']))])\n",
    "lower_education = len(df[~(df['education'].isin(['Bachelors', 'Masters', 'Doctorate']))])\n",
    "print(\"People With a Degree =\",higher_education)\n",
    "print(\"People Without a Degree =\",lower_education)\n",
    "\n",
    "# Percentage of people with a salary >50K\n",
    "higher_education_rich = round((len(df[(df['education'].isin(['Bachelors', 'Masters', 'Doctorate'])) & (df['salary'] == '>50K')]) / (higher_education) * 100), 1)\n",
    "lower_education_rich = round((len(df[~(df['education'].isin(['Bachelors', 'Masters', 'Doctorate'])) & (df['salary'] == '>50K')]) / (lower_education) * 100), 1)\n",
    "print(\"Percentage of People With a Degree earning over 50K =\",higher_education_rich,\"%\")\n",
    "print(\"Percentage of People Without a Degree earning over 50K =\",lower_education_rich,\"%\")"
   ]
  },
  {
   "cell_type": "markdown",
   "id": "79b702cb",
   "metadata": {},
   "source": [
    "### Minimum Hours Worked per Week"
   ]
  },
  {
   "cell_type": "code",
   "execution_count": 6,
   "id": "b090ed84",
   "metadata": {},
   "outputs": [
    {
     "name": "stdout",
     "output_type": "stream",
     "text": [
      "Minimun Number of Hours Worked per Week = 1\n",
      "Percentage of People working the Minimum Number of Hours per Week and earning a Salary Over 50K = 10.0 %\n"
     ]
    }
   ],
   "source": [
    "# What is the minimum number of hours a person works per week?\n",
    "min_work_hours = df['hours-per-week'].min()\n",
    "print(\"Minimun Number of Hours Worked per Week =\",min_work_hours)\n",
    "\n",
    "# What percentage of the people who work the minimum number of hours per week have a salary of >50K?\n",
    "num_min_workers = len(df[(df['hours-per-week'] == 1 )])\n",
    "rich_percentage = (len(df[(df['hours-per-week'] == 1 ) & (df['salary'] == '>50K')]) / num_min_workers) * 100\n",
    "print(\"Percentage of People working the Minimum Number of Hours per Week and earning a Salary Over 50K =\",rich_percentage,\"%\")"
   ]
  },
  {
   "cell_type": "markdown",
   "id": "b8d3c292",
   "metadata": {},
   "source": [
    "### Highest Earning Country"
   ]
  },
  {
   "cell_type": "code",
   "execution_count": 7,
   "id": "5f290470",
   "metadata": {},
   "outputs": [
    {
     "name": "stdout",
     "output_type": "stream",
     "text": [
      "Highest Earning Country = United-States\n",
      "Percentage of People in the US Earning Over 50K = 24.6 %\n",
      "Most Popular Occupation in the US = Exec-managerial\n"
     ]
    }
   ],
   "source": [
    "# What country has the highest percentage of people that earn >50K?\n",
    "highest_earning_country = df[df['salary'] == '>50K']['native-country'].value_counts().keys()[0]\n",
    "highest_earning_country_percentage = round((len(df[(df['salary'] == '>50K') & (df['native-country'] == 'United-States')]) / len(df[df['native-country'] == 'United-States'])) * 100, 1)\n",
    "print(\"Highest Earning Country =\", highest_earning_country)\n",
    "print(\"Percentage of People in the US Earning Over 50K =\",highest_earning_country_percentage,\"%\")\n",
    "\n",
    "# The most popular occupation for those who earn >50K in the United States.\n",
    "top_IN_occupation = df[(df['salary'] == '>50K') & (df['native-country'] == 'United-States')]['occupation'].value_counts().keys()[0]\n",
    "print(\"Most Popular Occupation in the US =\",top_IN_occupation)"
   ]
  }
 ],
 "metadata": {
  "kernelspec": {
   "display_name": "Python 3 (ipykernel)",
   "language": "python",
   "name": "python3"
  },
  "language_info": {
   "codemirror_mode": {
    "name": "ipython",
    "version": 3
   },
   "file_extension": ".py",
   "mimetype": "text/x-python",
   "name": "python",
   "nbconvert_exporter": "python",
   "pygments_lexer": "ipython3",
   "version": "3.9.12"
  }
 },
 "nbformat": 4,
 "nbformat_minor": 5
}
